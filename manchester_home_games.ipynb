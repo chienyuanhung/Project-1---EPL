{
 "cells": [
  {
   "cell_type": "code",
   "execution_count": 1,
   "metadata": {},
   "outputs": [
    {
     "ename": "ModuleNotFoundError",
     "evalue": "No module named 'gmaps'",
     "output_type": "error",
     "traceback": [
      "\u001b[0;31m---------------------------------------------------------------------------\u001b[0m",
      "\u001b[0;31mModuleNotFoundError\u001b[0m                       Traceback (most recent call last)",
      "\u001b[0;32m<ipython-input-1-e6fc903dbab1>\u001b[0m in \u001b[0;36m<module>\u001b[0;34m\u001b[0m\n\u001b[1;32m      3\u001b[0m \u001b[0;32mimport\u001b[0m \u001b[0mpandas\u001b[0m \u001b[0;32mas\u001b[0m \u001b[0mpd\u001b[0m\u001b[0;34m\u001b[0m\u001b[0;34m\u001b[0m\u001b[0m\n\u001b[1;32m      4\u001b[0m \u001b[0;32mimport\u001b[0m \u001b[0mmatplotlib\u001b[0m\u001b[0;34m\u001b[0m\u001b[0;34m\u001b[0m\u001b[0m\n\u001b[0;32m----> 5\u001b[0;31m \u001b[0;32mimport\u001b[0m \u001b[0mgmaps\u001b[0m\u001b[0;34m\u001b[0m\u001b[0;34m\u001b[0m\u001b[0m\n\u001b[0m\u001b[1;32m      6\u001b[0m \u001b[0;32mfrom\u001b[0m \u001b[0mconfig\u001b[0m \u001b[0;32mimport\u001b[0m \u001b[0mgkey\u001b[0m\u001b[0;34m\u001b[0m\u001b[0;34m\u001b[0m\u001b[0m\n\u001b[1;32m      7\u001b[0m \u001b[0mgmaps\u001b[0m\u001b[0;34m.\u001b[0m\u001b[0mconfigure\u001b[0m\u001b[0;34m(\u001b[0m\u001b[0mapi_key\u001b[0m\u001b[0;34m=\u001b[0m\u001b[0mgkey\u001b[0m\u001b[0;34m)\u001b[0m\u001b[0;34m\u001b[0m\u001b[0;34m\u001b[0m\u001b[0m\n",
      "\u001b[0;31mModuleNotFoundError\u001b[0m: No module named 'gmaps'"
     ]
    }
   ],
   "source": [
    "# Import dependencies\n",
    "\n",
    "import pandas as pd\n",
    "import matplotlib\n",
    "import gmaps\n",
    "from config import gkey\n",
    "gmaps.configure(api_key=gkey) "
   ]
  },
  {
   "cell_type": "code",
   "execution_count": null,
   "metadata": {},
   "outputs": [],
   "source": [
    "# Read CSV file \n",
    "\n",
    "epl_csv = pd.read_csv(\"Resources/EPL_season_1819.csv\")\n",
    "\n",
    "epl_csv.head()"
   ]
  },
  {
   "cell_type": "code",
   "execution_count": null,
   "metadata": {},
   "outputs": [],
   "source": [
    "epl_clean = epl_csv[[\"Date\", \"HomeTeam\", \"AwayTeam\", \"FTHG\", \"FTAG\", \"FTR\"]]\n",
    "\n",
    "epl_clean.head()"
   ]
  },
  {
   "cell_type": "code",
   "execution_count": null,
   "metadata": {},
   "outputs": [],
   "source": [
    "renamed_epl_clean = epl_clean.rename(columns = {\"HomeTeam\": \"Home Team\",\n",
    "                                  \"AwayTeam\": \"Away Team\",\n",
    "                                  \"FTHG\": \"Home Team Goals\",\n",
    "                                  \"FTAG\": \"Away Team Goals\",\n",
    "                                  \"FTR\": \"Game Result\"})\n",
    "\n",
    "renamed_epl_clean.head()"
   ]
  },
  {
   "cell_type": "code",
   "execution_count": null,
   "metadata": {},
   "outputs": [],
   "source": [
    "manchester_home_teams = renamed_epl_clean.loc[renamed_epl_clean[\"Home Team\"].isin([\"Man United\", \"Man City\"])]\n",
    "\n",
    "manchester_home_teams.sort_values([\"Date\"])"
   ]
  },
  {
   "cell_type": "code",
   "execution_count": null,
   "metadata": {},
   "outputs": [],
   "source": [
    "manchester_crime_data = pd.read_csv(\"Resources/final_manchester_crime_data.csv\")\n",
    "manchester_crime_data.head()"
   ]
  },
  {
   "cell_type": "code",
   "execution_count": null,
   "metadata": {},
   "outputs": [],
   "source": [
    "man_crime_req_columns = manchester_crime_data[[\"CrimeTS\", \"Location\", \"Type\", \"latitude\", \"longitude\"]]\n",
    "man_crime_req_columns['Date'] = pd.to_datetime(man_crime_req_columns['CrimeTS']).dt.normalize()\n",
    "\n",
    "corrected_dataset = man_crime_req_columns.rename(columns = {\"longitude\": \"Latitude\", \"latitude\": \"Longitude\"}).head()\n",
    "corrected_dataset.head()"
   ]
  },
  {
   "cell_type": "code",
   "execution_count": null,
   "metadata": {},
   "outputs": [],
   "source": [
    "first_home_game = manchester_home_teams.loc[manchester_home_teams[\"Date\"] == \"2018-08-10\"].reset_index()\n",
    "del first_away_game[\"index\"]\n",
    "\n",
    "second_home_game = manchester_home_teams.loc[manchester_home_teams[\"Date\"] == \"2018-08-19\"].reset_index()\n",
    "del second_away_game[\"index\"]\n",
    "\n",
    "third_home_game = manchester_home_teams.loc[manchester_home_teams[\"Date\"] == \"2018-08-27\"].reset_index()\n",
    "del third_away_game[\"index\"]\n"
   ]
  },
  {
   "cell_type": "code",
   "execution_count": null,
   "metadata": {},
   "outputs": [],
   "source": [
    "stadium_locations = [(53.4631, -2.2913), (53.4831, -2.2004)]\n"
   ]
  }
 ],
 "metadata": {
  "kernelspec": {
   "display_name": "Python 3",
   "language": "python",
   "name": "python3"
  },
  "language_info": {
   "codemirror_mode": {
    "name": "ipython",
    "version": 3
   },
   "file_extension": ".py",
   "mimetype": "text/x-python",
   "name": "python",
   "nbconvert_exporter": "python",
   "pygments_lexer": "ipython3",
   "version": "3.7.3"
  }
 },
 "nbformat": 4,
 "nbformat_minor": 2
}
