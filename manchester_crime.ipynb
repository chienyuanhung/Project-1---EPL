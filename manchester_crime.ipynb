{
 "cells": [
  {
   "cell_type": "code",
   "execution_count": 1,
   "metadata": {},
   "outputs": [],
   "source": [
    "import pandas as pd\n",
    "import matplotlib.pyplot as plt\n",
    "import numpy as np\n",
    "from matplotlib import rcParams\n",
    "from scipy.stats import sem\n",
    "from scipy.stats import stats"
   ]
  },
  {
   "cell_type": "code",
   "execution_count": 2,
   "metadata": {},
   "outputs": [
    {
     "data": {
      "text/html": [
       "<div>\n",
       "<style scoped>\n",
       "    .dataframe tbody tr th:only-of-type {\n",
       "        vertical-align: middle;\n",
       "    }\n",
       "\n",
       "    .dataframe tbody tr th {\n",
       "        vertical-align: top;\n",
       "    }\n",
       "\n",
       "    .dataframe thead th {\n",
       "        text-align: right;\n",
       "    }\n",
       "</style>\n",
       "<table border=\"1\" class=\"dataframe\">\n",
       "  <thead>\n",
       "    <tr style=\"text-align: right;\">\n",
       "      <th></th>\n",
       "      <th>Unnamed: 0</th>\n",
       "      <th>CrimeTS</th>\n",
       "      <th>Location</th>\n",
       "      <th>Type</th>\n",
       "      <th>Longitude</th>\n",
       "      <th>Latitude</th>\n",
       "    </tr>\n",
       "  </thead>\n",
       "  <tbody>\n",
       "    <tr>\n",
       "      <th>0</th>\n",
       "      <td>0</td>\n",
       "      <td>2018-08-02 21:29:18</td>\n",
       "      <td>On or near Faraday Street</td>\n",
       "      <td>Violence and sexual offences</td>\n",
       "      <td>-2.125952</td>\n",
       "      <td>53.456924</td>\n",
       "    </tr>\n",
       "    <tr>\n",
       "      <th>1</th>\n",
       "      <td>1</td>\n",
       "      <td>2018-08-01 15:29:08</td>\n",
       "      <td>On or near Camborne Road</td>\n",
       "      <td>Violence and sexual offences</td>\n",
       "      <td>-2.445266</td>\n",
       "      <td>53.568947</td>\n",
       "    </tr>\n",
       "    <tr>\n",
       "      <th>2</th>\n",
       "      <td>2</td>\n",
       "      <td>2018-08-05 11:29:28</td>\n",
       "      <td>On or near Ashley Road</td>\n",
       "      <td>Criminal damage and arson</td>\n",
       "      <td>-2.354261</td>\n",
       "      <td>53.419073</td>\n",
       "    </tr>\n",
       "    <tr>\n",
       "      <th>3</th>\n",
       "      <td>3</td>\n",
       "      <td>2018-08-26 05:21:34</td>\n",
       "      <td>On or near Trust Road</td>\n",
       "      <td>Public order</td>\n",
       "      <td>-2.563494</td>\n",
       "      <td>53.536908</td>\n",
       "    </tr>\n",
       "    <tr>\n",
       "      <th>4</th>\n",
       "      <td>4</td>\n",
       "      <td>2018-08-16 01:16:35</td>\n",
       "      <td>On or near Back Elmwood Grove West</td>\n",
       "      <td>Violence and sexual offences</td>\n",
       "      <td>-2.199558</td>\n",
       "      <td>53.513226</td>\n",
       "    </tr>\n",
       "  </tbody>\n",
       "</table>\n",
       "</div>"
      ],
      "text/plain": [
       "   Unnamed: 0              CrimeTS                            Location  \\\n",
       "0           0  2018-08-02 21:29:18           On or near Faraday Street   \n",
       "1           1  2018-08-01 15:29:08            On or near Camborne Road   \n",
       "2           2  2018-08-05 11:29:28              On or near Ashley Road   \n",
       "3           3  2018-08-26 05:21:34               On or near Trust Road   \n",
       "4           4  2018-08-16 01:16:35  On or near Back Elmwood Grove West   \n",
       "\n",
       "                           Type  Longitude   Latitude  \n",
       "0  Violence and sexual offences  -2.125952  53.456924  \n",
       "1  Violence and sexual offences  -2.445266  53.568947  \n",
       "2     Criminal damage and arson  -2.354261  53.419073  \n",
       "3                  Public order  -2.563494  53.536908  \n",
       "4  Violence and sexual offences  -2.199558  53.513226  "
      ]
     },
     "execution_count": 2,
     "metadata": {},
     "output_type": "execute_result"
    }
   ],
   "source": [
    "# read the crime data for the city of Manchester in August, 2018\n",
    "\n",
    "file = ('Resources/final_manchester_crime_data.csv')\n",
    "mc_pf = pd.read_csv(file)\n",
    "\n",
    "mc_pf.head()"
   ]
  },
  {
   "cell_type": "code",
   "execution_count": 3,
   "metadata": {},
   "outputs": [
    {
     "data": {
      "text/html": [
       "<div>\n",
       "<style scoped>\n",
       "    .dataframe tbody tr th:only-of-type {\n",
       "        vertical-align: middle;\n",
       "    }\n",
       "\n",
       "    .dataframe tbody tr th {\n",
       "        vertical-align: top;\n",
       "    }\n",
       "\n",
       "    .dataframe thead th {\n",
       "        text-align: right;\n",
       "    }\n",
       "</style>\n",
       "<table border=\"1\" class=\"dataframe\">\n",
       "  <thead>\n",
       "    <tr style=\"text-align: right;\">\n",
       "      <th></th>\n",
       "      <th>Unnamed: 0</th>\n",
       "      <th>CrimeTS</th>\n",
       "      <th>Location</th>\n",
       "      <th>Type</th>\n",
       "      <th>Longitude</th>\n",
       "      <th>Latitude</th>\n",
       "      <th>Crime Date</th>\n",
       "      <th>Crime Time</th>\n",
       "    </tr>\n",
       "  </thead>\n",
       "  <tbody>\n",
       "    <tr>\n",
       "      <th>0</th>\n",
       "      <td>0</td>\n",
       "      <td>2018-08-02 21:29:18</td>\n",
       "      <td>On or near Faraday Street</td>\n",
       "      <td>Violence and sexual offences</td>\n",
       "      <td>-2.125952</td>\n",
       "      <td>53.456924</td>\n",
       "      <td>2018-08-02</td>\n",
       "      <td>21:29:18</td>\n",
       "    </tr>\n",
       "    <tr>\n",
       "      <th>1</th>\n",
       "      <td>1</td>\n",
       "      <td>2018-08-01 15:29:08</td>\n",
       "      <td>On or near Camborne Road</td>\n",
       "      <td>Violence and sexual offences</td>\n",
       "      <td>-2.445266</td>\n",
       "      <td>53.568947</td>\n",
       "      <td>2018-08-01</td>\n",
       "      <td>15:29:08</td>\n",
       "    </tr>\n",
       "    <tr>\n",
       "      <th>2</th>\n",
       "      <td>2</td>\n",
       "      <td>2018-08-05 11:29:28</td>\n",
       "      <td>On or near Ashley Road</td>\n",
       "      <td>Criminal damage and arson</td>\n",
       "      <td>-2.354261</td>\n",
       "      <td>53.419073</td>\n",
       "      <td>2018-08-05</td>\n",
       "      <td>11:29:28</td>\n",
       "    </tr>\n",
       "    <tr>\n",
       "      <th>3</th>\n",
       "      <td>3</td>\n",
       "      <td>2018-08-26 05:21:34</td>\n",
       "      <td>On or near Trust Road</td>\n",
       "      <td>Public order</td>\n",
       "      <td>-2.563494</td>\n",
       "      <td>53.536908</td>\n",
       "      <td>2018-08-26</td>\n",
       "      <td>05:21:34</td>\n",
       "    </tr>\n",
       "    <tr>\n",
       "      <th>4</th>\n",
       "      <td>4</td>\n",
       "      <td>2018-08-16 01:16:35</td>\n",
       "      <td>On or near Back Elmwood Grove West</td>\n",
       "      <td>Violence and sexual offences</td>\n",
       "      <td>-2.199558</td>\n",
       "      <td>53.513226</td>\n",
       "      <td>2018-08-16</td>\n",
       "      <td>01:16:35</td>\n",
       "    </tr>\n",
       "  </tbody>\n",
       "</table>\n",
       "</div>"
      ],
      "text/plain": [
       "   Unnamed: 0             CrimeTS                            Location  \\\n",
       "0           0 2018-08-02 21:29:18           On or near Faraday Street   \n",
       "1           1 2018-08-01 15:29:08            On or near Camborne Road   \n",
       "2           2 2018-08-05 11:29:28              On or near Ashley Road   \n",
       "3           3 2018-08-26 05:21:34               On or near Trust Road   \n",
       "4           4 2018-08-16 01:16:35  On or near Back Elmwood Grove West   \n",
       "\n",
       "                           Type  Longitude   Latitude  Crime Date Crime Time  \n",
       "0  Violence and sexual offences  -2.125952  53.456924  2018-08-02   21:29:18  \n",
       "1  Violence and sexual offences  -2.445266  53.568947  2018-08-01   15:29:08  \n",
       "2     Criminal damage and arson  -2.354261  53.419073  2018-08-05   11:29:28  \n",
       "3                  Public order  -2.563494  53.536908  2018-08-26   05:21:34  \n",
       "4  Violence and sexual offences  -2.199558  53.513226  2018-08-16   01:16:35  "
      ]
     },
     "execution_count": 3,
     "metadata": {},
     "output_type": "execute_result"
    }
   ],
   "source": [
    "# split the time data into date and time\n",
    "crime_date = [x.split()[0] for x in mc_pf['CrimeTS']]\n",
    "crime_time = [x.split()[1] for x in mc_pf['CrimeTS']]\n",
    "mc_pf['Crime Date'] = crime_date\n",
    "mc_pf['Crime Time'] = crime_time\n",
    "\n",
    "# structure the time and date data into python datetime object\n",
    "from datetime import datetime\n",
    "import time\n",
    "crime_TS = [datetime.strptime(date_str, \"%Y-%m-%d %H:%M:%S\") for date_str in mc_pf['CrimeTS']]\n",
    "mc_pf['CrimeTS'] = crime_TS\n",
    "mc_pf.head()\n"
   ]
  },
  {
   "cell_type": "code",
   "execution_count": 4,
   "metadata": {},
   "outputs": [],
   "source": [
    "# The crime rate data on the days of home games\n",
    "\n",
    "mc_home_game_1 = mc_pf.loc[mc_pf['Crime Date'] == '2018-08-10',  :]\n",
    "mc_home_game_2 = mc_pf.loc[mc_pf['Crime Date'] == '2018-08-19',  :]\n",
    "mc_home_game_3 = mc_pf.loc[mc_pf['Crime Date'] == '2018-08-27',  :]\n",
    "\n",
    "mc_home_game = pd.concat([mc_home_game_1, mc_home_game_2, mc_home_game_3])\n",
    "\n",
    "# save the home game crime data\n",
    "mc_home_game.to_csv('Resources/final_manchester_crime_data_home_game.csv')"
   ]
  },
  {
   "cell_type": "code",
   "execution_count": 5,
   "metadata": {},
   "outputs": [],
   "source": [
    "# The crime rate data on the days of guest games\n",
    "\n",
    "mc_guest_game_1 = mc_pf.loc[mc_pf['Crime Date'] == '2018-08-12',  :]\n",
    "mc_guest_game_2 = mc_pf.loc[mc_pf['Crime Date'] == '2018-08-19',  :]\n",
    "mc_guest_game_3 = mc_pf.loc[mc_pf['Crime Date'] == '2018-08-25',  :]\n",
    "\n",
    "mc_guest_game = pd.concat([mc_guest_game_1, mc_guest_game_2, mc_guest_game_3])\n",
    "\n",
    "# save the guest game crime data\n",
    "mc_guest_game.to_csv('Resources/final_manchester_crime_data_guest_game.csv')"
   ]
  },
  {
   "cell_type": "code",
   "execution_count": 6,
   "metadata": {},
   "outputs": [],
   "source": [
    "# The crime rate data on the days without games\n",
    "\n",
    "game_days = ['2018-08-10', '2018-08-12', '2018-08-19', '2018-08-25', '2018-08-27']\n",
    "mc_off_game = mc_pf\n",
    "for game_day in game_days:\n",
    "    mc_off_game =  mc_off_game[mc_off_game['Crime Date'] != game_day]\n",
    "\n",
    "# save the off game day crime data\n",
    "mc_off_game.to_csv('Resources/final_manchester_crime_data_off_game.csv')\n"
   ]
  },
  {
   "cell_type": "code",
   "execution_count": 7,
   "metadata": {},
   "outputs": [],
   "source": [
    "# Group the data by crime date\n",
    "\n",
    "grouped_date_mc_pf = mc_pf.groupby(['Crime Date'])\n",
    "\n",
    "crime_counts = grouped_date_mc_pf['CrimeTS'].count()\n"
   ]
  },
  {
   "cell_type": "code",
   "execution_count": 8,
   "metadata": {
    "scrolled": true
   },
   "outputs": [
    {
     "data": {
      "image/png": "[encoded data removed]",
      "text/plain": [
       "<Figure size 1296x432 with 1 Axes>"
      ]
     },
     "metadata": {
      "needs_background": "light"
     },
     "output_type": "display_data"
    }
   ],
   "source": [
    "#plots for crime counts on each day in Auguest, 2018\n",
    "\n",
    "time = np.arange(1, 31, 1)\n",
    "fig = plt.figure()\n",
    "fig.set_size_inches((18, 6))\n",
    "rcParams.update({'figure.autolayout': True})\n",
    "rcParams.update({'font.size': 15})\n",
    "\n",
    "\n",
    "plt.bar(time, crime_counts, color = 'yellow', label = 'off day')\n",
    "plt.bar([10, 27], (crime_counts[9], crime_counts[26]), color = 'red', label = 'home game' )\n",
    "plt.bar([12, 25], (crime_counts[11], crime_counts[24]), color = 'blue', label = 'guest game'  )\n",
    "plt.bar(19, crime_counts[18],  color = 'purple',  label = 'home/guest')\n",
    "plt.xlim(0, 31)\n",
    "plt.ylim(75, 220)\n",
    "plt.title('crime counts on each day in Auguest, 2018')\n",
    "plt.legend(loc = 'best')\n",
    "plt.xlabel('Date in August')\n",
    "plt.ylabel('Crime Counts')\n",
    "\n",
    "plt.savefig('Images/august_crime.png')"
   ]
  },
  {
   "cell_type": "code",
   "execution_count": 9,
   "metadata": {},
   "outputs": [],
   "source": [
    "# Group the data by crime date based on data on home game days, guest game days, off days\n",
    "\n",
    "# mean and sem for home game days\n",
    "home_game_crime = mc_home_game.groupby(['Crime Date'])['CrimeTS'].count()\n",
    "\n",
    "# mean and sem for guest game days\n",
    "guest_game_crime = mc_guest_game.groupby(['Crime Date'])['CrimeTS'].count()\n",
    "\n",
    "# mean and sem for off game days\n",
    "off_game_crime = mc_off_game.groupby(['Crime Date'])['CrimeTS'].count()\n"
   ]
  },
  {
   "cell_type": "code",
   "execution_count": 10,
   "metadata": {},
   "outputs": [
    {
     "data": {
      "text/plain": [
       "0.02769"
      ]
     },
     "execution_count": 10,
     "metadata": {},
     "output_type": "execute_result"
    }
   ],
   "source": [
    "# p-value for home_game_crime and off_game_crime\n",
    "\n",
    "home_t, home_p = stats.ttest_ind(home_game_crime, off_game_crime, equal_var = False )\n",
    "home_p = round(home_p, 6)\n",
    "home_p"
   ]
  },
  {
   "cell_type": "code",
   "execution_count": 17,
   "metadata": {},
   "outputs": [
    {
     "data": {
      "text/plain": [
       "0.780108"
      ]
     },
     "execution_count": 17,
     "metadata": {},
     "output_type": "execute_result"
    }
   ],
   "source": [
    "# p-value for guest_game_crime and off_game_crime\n",
    "\n",
    "guest_t, guest_p = stats.ttest_ind(guest_game_crime, off_game_crime, equal_var = False )\n",
    "guest_p = round(guest_p, 6)\n",
    "guest_p"
   ]
  },
  {
   "cell_type": "code",
   "execution_count": 15,
   "metadata": {},
   "outputs": [
    {
     "data": {
      "image/png": "[encoded data removed]",
      "text/plain": [
       "<Figure size 432x576 with 1 Axes>"
      ]
     },
     "metadata": {
      "needs_background": "light"
     },
     "output_type": "display_data"
    }
   ],
   "source": [
    "# plot the crime counts data accoring to data on home game days, guest game days, off days\n",
    "\n",
    "fig = plt.figure()\n",
    "fig.set_size_inches((6, 8))\n",
    "\n",
    "rcParams.update({'font.size': 15})\n",
    "\n",
    "mean_crime = [off_game_crime.mean(), home_game_crime.mean(), guest_game_crime.mean()]\n",
    "sem_crime = [off_game_crime.sem(), home_game_crime.sem(), guest_game_crime.sem()]\n",
    "color_crime = ['yellow', 'red', 'blue']\n",
    "\n",
    "\n",
    "import matplotlib.pyplot as plt\n",
    "plt.bar(x = [0, 1, 2], height = mean_crime, yerr = sem_crime,   color = color_crime )\n",
    "home_percent_change = 100*(home_game_crime.mean()-off_game_crime.mean())/off_game_crime.mean()\n",
    "guest_percent_change = 100*(guest_game_crime.mean()-off_game_crime.mean())/off_game_crime.mean()\n",
    "plt.ylim(75, 200)\n",
    "plt.ylabel('Crime Counts')\n",
    "plt.xlabel(f'home vs off: pvalue = {home_p} \\n away vs off: pvalue = {guest_p}')\n",
    "plt.xticks([0.0, 1.0, 2.0], ['off', 'home', 'guest'])\n",
    "plt.text(-0.2, off_game_crime.mean()-10, f'{round(off_game_crime.mean(), 2)}')\n",
    "plt.text(0.7, home_game_crime.mean()-20, f'{round(home_game_crime.mean(), 2)}\\n({round(home_percent_change,2)}%)')\n",
    "plt.text(1.7, guest_game_crime.mean()-20, f'{round(guest_game_crime.mean(), 2)}\\n({round(guest_percent_change,2)}%)')\n",
    "plt.title('Average crime counts in Machester\\n August 2018')\n",
    "plt.savefig(\"Images/crime_counts_general_comparison.png\")\n",
    "\n"
   ]
  },
  {
   "cell_type": "markdown",
   "metadata": {},
   "source": [
    "# Analysis of crime subtypes"
   ]
  },
  {
   "cell_type": "code",
   "execution_count": 18,
   "metadata": {},
   "outputs": [],
   "source": [
    "# analysis of crime by catogories, off days \n",
    "\n",
    "# list of crime types \n",
    "crime_type = [\"Bicycle theft\", \"Burglary\", \"Criminal damage and arson\", \"Drugs\", \"Other crime\", \"Other theft\", \n",
    "              \"Possession of weapons\", \"Public order\", \"Robbery\", \"Shoplifting\", \"Theft from the person\", \n",
    "              \"Vehicle crime\", \"Violence and sexual offences\"]\n",
    "\n",
    "off_crime_type_counts = []\n",
    "off_crime_type_sem = []\n",
    "off_crime_type_std = []\n",
    "\n",
    "off_game_crime_type = mc_off_game.groupby(['Crime Date','Type'])['CrimeTS'].count().reset_index()\n",
    "for i in crime_type:\n",
    "    j = off_game_crime_type.loc[off_game_crime_type[\"Type\"] == i, :]\n",
    "    off_crime_type_counts.append(j.mean())\n",
    "    off_crime_type_sem.append(j.sem())\n",
    "    off_crime_type_std.append(j.std())\n",
    "    \n",
    "off_crime_type_counts = np.reshape(np.array(off_crime_type_counts), 13)\n",
    "off_crime_type_sem = np.reshape(np.array(off_crime_type_sem), 13)\n",
    "off_crime_type_std = np.reshape(np.array(off_crime_type_std), 13)"
   ]
  },
  {
   "cell_type": "code",
   "execution_count": 19,
   "metadata": {},
   "outputs": [],
   "source": [
    "# analysis of crime by catogories, home games \n",
    "\n",
    "home_crime_type_counts = []\n",
    "home_crime_type_sem = []\n",
    "home_crime_type_std = []\n",
    "\n",
    "home_game_crime_type = mc_home_game.groupby(['Crime Date','Type'])['CrimeTS'].count().reset_index()\n",
    "for i in crime_type:\n",
    "    j = home_game_crime_type.loc[home_game_crime_type[\"Type\"] == i, :]\n",
    "    home_crime_type_counts.append(j.mean())\n",
    "    home_crime_type_sem.append(j.sem())\n",
    "    home_crime_type_std.append(j.std())\n",
    "    \n",
    "home_crime_type_counts = np.reshape(np.array(home_crime_type_counts), 13)\n",
    "home_crime_type_sem = np.reshape(np.array(home_crime_type_sem), 13)\n",
    "home_crime_type_std = np.reshape(np.array(home_crime_type_std), 13)"
   ]
  },
  {
   "cell_type": "code",
   "execution_count": 20,
   "metadata": {},
   "outputs": [],
   "source": [
    "# analysis of crime by catogories, away games \n",
    "\n",
    "guest_crime_type_counts = []\n",
    "guest_crime_type_sem = []\n",
    "guest_crime_type_std = []\n",
    "\n",
    "guest_game_crime_type = mc_guest_game.groupby(['Crime Date','Type'])['CrimeTS'].count().reset_index()\n",
    "for i in crime_type:\n",
    "    j = guest_game_crime_type.loc[guest_game_crime_type[\"Type\"] == i, :]\n",
    "    guest_crime_type_counts.append(j.mean())\n",
    "    guest_crime_type_sem.append(j.sem())\n",
    "    guest_crime_type_std.append(j.std())\n",
    "    \n",
    "guest_crime_type_counts = np.reshape(np.array(guest_crime_type_counts), 13)\n",
    "guest_crime_type_sem = np.reshape(np.array(guest_crime_type_sem),13)\n",
    "guest_crime_type_std = np.reshape(np.array(guest_crime_type_std),13)"
   ]
  },
  {
   "cell_type": "code",
   "execution_count": 21,
   "metadata": {},
   "outputs": [
    {
     "data": {
      "image/png": "[encoded data removed]",
      "text/plain": [
       "<Figure size 864x432 with 1 Axes>"
      ]
     },
     "metadata": {
      "needs_background": "light"
     },
     "output_type": "display_data"
    },
    {
     "data": {
      "text/plain": [
       "<Figure size 432x288 with 0 Axes>"
      ]
     },
     "metadata": {},
     "output_type": "display_data"
    }
   ],
   "source": [
    "# create plot\n",
    "\n",
    "crime_types = [\"Bicycle theft\", \"Burglary\", \"Criminal damage \\n and arson\", \"Drugs\", \"Other crime\", \"Other theft\", \"Possession \\nof weapons\", \"Public order\", \"Robbery\", \"Shoplifting\", \"Theft from \\n the person\", \"Vehicle crime\", \"Violence and \\n sexual offences\"]\n",
    "n_groups = 13\n",
    "fig, ax = plt.subplots()\n",
    "fig.set_size_inches((12, 6))\n",
    "index = np.arange(n_groups)\n",
    "bar_width = 0.25\n",
    "opacity = 0.8\n",
    "\n",
    "rects1 = plt.bar(x = index, height = off_crime_type_counts, yerr = off_crime_type_sem, width = bar_width, \n",
    "                 color='yellow', label='off days')\n",
    "\n",
    "rects2 = plt.bar(x = index + bar_width, height = home_crime_type_counts, yerr = home_crime_type_sem, width = bar_width, \n",
    "                 color='red', label='homegame')\n",
    "\n",
    "rects2 = plt.bar(x = index + 2*bar_width, height = guest_crime_type_counts, yerr = guest_crime_type_sem, width = bar_width,\n",
    "                 color='blue', label='homegame')\n",
    "\n",
    "\n",
    "plt.ylabel('crime counts')\n",
    "plt.title('crime type counts in off, home and guest game day')\n",
    "plt.xticks(index + bar_width, crime_types, rotation = 70)\n",
    "plt.legend()\n",
    "\n",
    "plt.tight_layout()\n",
    "plt.show()\n",
    "plt.savefig(\"Images/crime_type_comparison.png\")"
   ]
  },
  {
   "cell_type": "markdown",
   "metadata": {},
   "source": [
    "# Crime subtypes increasing or decreasing on home game days"
   ]
  },
  {
   "cell_type": "code",
   "execution_count": 22,
   "metadata": {},
   "outputs": [
    {
     "data": {
      "text/plain": [
       "[[2, 0.04560405309282813, 'Criminal damage and arson'],\n",
       " [3, 0.029946933418083146, 'Drugs'],\n",
       " [5, 0.04590376712949329, 'Other theft'],\n",
       " [9, 0.04940925008809658, 'Shoplifting']]"
      ]
     },
     "execution_count": 22,
     "metadata": {},
     "output_type": "execute_result"
    }
   ],
   "source": [
    "# find the types of crimes which are significant different between off- and home-game days\n",
    "\n",
    "from scipy.stats import ttest_ind_from_stats\n",
    "\n",
    "# store the index, p_value and crime type in a list \n",
    "diff_off_home = []\n",
    "\n",
    "# use individual t-test to determine the crimes which are statistical different in home-game days\n",
    "for i in np.arange(13):\n",
    "    t, p = ttest_ind_from_stats(mean1 = off_crime_type_counts[i], std1 = off_crime_type_std[i], nobs1 = 25, \n",
    "                                mean2 = home_crime_type_counts[i], std2 = home_crime_type_std[i], nobs2 =  3)\n",
    "    if p <0.05:\n",
    "        diff_off_home.append([i, p, crime_type[i]])\n",
    "\n",
    "              \n",
    "diff_off_home            "
   ]
  },
  {
   "cell_type": "code",
   "execution_count": 23,
   "metadata": {},
   "outputs": [
    {
     "data": {
      "image/png": "[encoded data removed]",
      "text/plain": [
       "<Figure size 648x720 with 4 Axes>"
      ]
     },
     "metadata": {
      "needs_background": "light"
     },
     "output_type": "display_data"
    }
   ],
   "source": [
    "# plot the crime changes which are significant different between the off day and game day\n",
    "\n",
    "f, ax = plt.subplots(2, 2)\n",
    "f.set_size_inches((9, 10))\n",
    "x = np.arange(2)\n",
    "day_categories = [off_crime_type_counts, home_crime_type_counts]\n",
    "day_categories_sem = [off_crime_type_sem, home_crime_type_sem]\n",
    "colors = ['yellow', 'red']\n",
    "\n",
    "axes = (ax[0, 0], ax[0, 1], ax[1, 0], ax[1, 1])\n",
    "types = (diff_off_home[0][2], diff_off_home[1][2], diff_off_home[2][2], diff_off_home[3][2])\n",
    "p_val = (round(diff_off_home[0][1], 5), round(diff_off_home[1][1], 5), round(diff_off_home[2][1], 5), round(diff_off_home[3][1], 5))\n",
    "type_index = (diff_off_home[0][0], diff_off_home[1][0], diff_off_home[2][0], diff_off_home[3][0])\n",
    "\n",
    "# calculate the percentage change for each crime, off days vs home-game days\n",
    "percent_type = []\n",
    "\n",
    "for i in type_index:\n",
    "    j = round(100*(home_crime_type_counts[i] - off_crime_type_counts[i])/off_crime_type_counts[i], 2)\n",
    "    percent_type.append(j)\n",
    "    \n",
    "# plot the bar chart for each crime,off days vs home-game days   \n",
    "for i in np.arange(len(axes)):\n",
    "    axes[i].bar(x = x, height = [cat[type_index[i]] for cat in day_categories], \n",
    "                         yerr = [cat_sem[type_index[i]] for cat_sem in day_categories_sem], color = colors )\n",
    "    axes[i].set_title(f'{types[i]}, \\n p = {p_val[i]}')\n",
    "    axes[i].set_xticks([])\n",
    "    \n",
    "\n",
    "axes[0].set_ylabel('crime counts')\n",
    "axes[2].set_ylabel('crime counts')\n",
    "\n",
    "axes[2].set_xticks([0, 1])\n",
    "axes[2].set_xticklabels(['off', 'home'])\n",
    "\n",
    "axes[3].set_xticks([0, 1])\n",
    "axes[3].set_xticklabels(['off', 'home'])\n",
    "\n",
    "axes[0].text(-0.15, 15, f'{off_crime_type_counts[type_index[0]]}')\n",
    "axes[0].text(0.75, 9, f'{round(home_crime_type_counts[type_index[0]], 2)}\\n({percent_type[0]}%)')\n",
    "\n",
    "axes[1].text(-0.15, 2, f'{round(off_crime_type_counts[type_index[1]], 2)}')\n",
    "axes[1].text(0.75, 0.6, f'{round(home_crime_type_counts[type_index[1]], 2)}\\n({percent_type[1]}%)')\n",
    "\n",
    "axes[2].text(-0.15, 12, f'{round(off_crime_type_counts[type_index[2]], 2)}')\n",
    "axes[2].text(0.75, 12, f'{round(home_crime_type_counts[type_index[2]], 2)}\\n({percent_type[2]}%)')\n",
    "\n",
    "axes[3].text(-0.15, 7.5, f'{round(off_crime_type_counts[type_index[3]], 2)}')\n",
    "axes[3].text(0.75, 3.5, f'{round(home_crime_type_counts[type_index[3]], 2)}\\n({percent_type[3]}%)')\n",
    "plt.savefig('Images/subtypes_crime_home.png')\n"
   ]
  },
  {
   "cell_type": "markdown",
   "metadata": {},
   "source": [
    "# Crime subtypes increasing or decreasing on home game days"
   ]
  },
  {
   "cell_type": "code",
   "execution_count": 24,
   "metadata": {},
   "outputs": [
    {
     "data": {
      "text/plain": [
       "[[4, 0.007214967125526608, 'Other crime'],\n",
       " [5, 0.0280421291058585, 'Other theft']]"
      ]
     },
     "execution_count": 24,
     "metadata": {},
     "output_type": "execute_result"
    }
   ],
   "source": [
    "# finding the subtypes which are statiticallly different between away-game days and off days\n",
    "\n",
    "diff_off_guest = []\n",
    "\n",
    "for i in np.arange(13):\n",
    "    t, p = ttest_ind_from_stats(mean1 = off_crime_type_counts[i], std1 = off_crime_type_std[i], nobs1 = 25, \n",
    "                                mean2 = guest_crime_type_counts[i], std2 = guest_crime_type_std[i], nobs2 =  3)\n",
    "    if p <0.05:\n",
    "        diff_off_guest.append([i, p, crime_type[i]])\n",
    "\n",
    "              \n",
    "diff_off_guest       "
   ]
  },
  {
   "cell_type": "code",
   "execution_count": 25,
   "metadata": {},
   "outputs": [
    {
     "data": {
      "image/png": "[encoded data removed]",
      "text/plain": [
       "<Figure size 648x360 with 2 Axes>"
      ]
     },
     "metadata": {
      "needs_background": "light"
     },
     "output_type": "display_data"
    }
   ],
   "source": [
    "# plot the crime changes which are significant different between the off day and game day\n",
    "\n",
    "f, ax = plt.subplots(1, 2)\n",
    "f.set_size_inches((9, 5))\n",
    "x = np.arange(2)\n",
    "day_categories = [off_crime_type_counts, guest_crime_type_counts]\n",
    "day_categories_sem = [off_crime_type_sem, guest_crime_type_sem]\n",
    "colors = ['yellow', 'blue']\n",
    "\n",
    "axes = (ax[0], ax[1])\n",
    "types = (diff_off_guest[0][2], diff_off_guest[1][2])\n",
    "p_val = (round(diff_off_guest[0][1], 5), round(diff_off_guest[1][1], 5))\n",
    "type_index = (diff_off_guest[0][0], diff_off_guest[1][0])\n",
    "\n",
    "# calculate the percentage change for each crime, off days vs home-game days\n",
    "\n",
    "g_percent_type = []\n",
    "\n",
    "for i in type_index:\n",
    "    j = round(100*(guest_crime_type_counts[i] - off_crime_type_counts[i])/off_crime_type_counts[i], 2)\n",
    "    g_percent_type.append(j)\n",
    "    \n",
    "# plot the bar chart for each crime,off days vs home-game days   \n",
    "for i in np.arange(len(axes)):\n",
    "    axes[i].bar(x = x, height = [cat[type_index[i]] for cat in day_categories], \n",
    "                         yerr = [cat_sem[type_index[i]] for cat_sem in day_categories_sem], color = colors )\n",
    "    axes[i].set_title(f'{types[i]}, \\n p = {p_val[i]}')\n",
    "    axes[i].set_xticks([])\n",
    "    \n",
    "\n",
    "axes[0].set_ylabel('crime counts')\n",
    "\n",
    "\n",
    "axes[0].set_xticks([0, 1])\n",
    "axes[0].set_xticklabels(['off', 'away'])\n",
    "\n",
    "axes[1].set_xticks([0, 1])\n",
    "axes[1].set_xticklabels(['off', 'away'])\n",
    "\n",
    "axes[0].text(-0.15, 3, f'{off_crime_type_counts[type_index[0]]}')\n",
    "axes[0].text(0.75, 4, f'{round(guest_crime_type_counts[type_index[0]], 2)}\\n({g_percent_type[0]}%)')\n",
    "\n",
    "axes[1].text(-0.15, 12, f'{round(off_crime_type_counts[type_index[1]], 2)}')\n",
    "axes[1].text(0.75, 12, f'{round(guest_crime_type_counts[type_index[1]], 2)}\\n({percent_type[1]}%)')\n",
    "\n",
    "\n",
    "plt.savefig('Images/subtypes_crime_guest.png')\n"
   ]
  },
  {
   "cell_type": "code",
   "execution_count": 44,
   "metadata": {},
   "outputs": [
    {
     "data": {
      "text/plain": [
       "array([-39.89071038, -16.8797954 , -29.15734526, -61.01694915,\n",
       "        20.27491409,  29.10798122,  -3.82513661, -11.69977925,\n",
       "       -11.85897436, -38.13682678, -11.11111111, -13.93786734,\n",
       "        -8.45247053])"
      ]
     },
     "execution_count": 44,
     "metadata": {},
     "output_type": "execute_result"
    }
   ],
   "source": [
    "home_crime_type_percentage_change = 100*(home_crime_type_counts-off_crime_type_counts)/off_crime_type_counts\n",
    "home_crime_type_percentage_change"
   ]
  },
  {
   "cell_type": "code",
   "execution_count": 45,
   "metadata": {},
   "outputs": [
    {
     "data": {
      "text/plain": [
       "array([-63.93442623, -12.6172208 ,  -6.78598061, -22.03389831,\n",
       "        63.23024055,  31.45539906, -39.89071038,  -7.5607064 ,\n",
       "       -11.85897436, -27.21979622,  66.66666667, -22.33417296,\n",
       "         5.96940055])"
      ]
     },
     "execution_count": 45,
     "metadata": {},
     "output_type": "execute_result"
    }
   ],
   "source": [
    "guest_crime_type_percentage_change = 100*(guest_crime_type_counts-off_crime_type_counts)/off_crime_type_counts\n",
    "guest_crime_type_percentage_change"
   ]
  },
  {
   "cell_type": "markdown",
   "metadata": {},
   "source": [
    "# gmap analysis of crime data"
   ]
  },
  {
   "cell_type": "code",
   "execution_count": 29,
   "metadata": {},
   "outputs": [
    {
     "data": {
      "text/html": [
       "<div>\n",
       "<style scoped>\n",
       "    .dataframe tbody tr th:only-of-type {\n",
       "        vertical-align: middle;\n",
       "    }\n",
       "\n",
       "    .dataframe tbody tr th {\n",
       "        vertical-align: top;\n",
       "    }\n",
       "\n",
       "    .dataframe thead th {\n",
       "        text-align: right;\n",
       "    }\n",
       "</style>\n",
       "<table border=\"1\" class=\"dataframe\">\n",
       "  <thead>\n",
       "    <tr style=\"text-align: right;\">\n",
       "      <th></th>\n",
       "      <th>Unnamed: 0</th>\n",
       "      <th>CrimeTS</th>\n",
       "      <th>Location</th>\n",
       "      <th>Type</th>\n",
       "      <th>Longitude</th>\n",
       "      <th>Latitude</th>\n",
       "      <th>Crime Date</th>\n",
       "      <th>Crime Time</th>\n",
       "      <th>Crime Day</th>\n",
       "    </tr>\n",
       "  </thead>\n",
       "  <tbody>\n",
       "    <tr>\n",
       "      <th>0</th>\n",
       "      <td>0</td>\n",
       "      <td>2018-08-02 21:29:18</td>\n",
       "      <td>On or near Faraday Street</td>\n",
       "      <td>Violence and sexual offences</td>\n",
       "      <td>-2.125952</td>\n",
       "      <td>53.456924</td>\n",
       "      <td>2018-08-02</td>\n",
       "      <td>21:29:18</td>\n",
       "      <td>2</td>\n",
       "    </tr>\n",
       "    <tr>\n",
       "      <th>1</th>\n",
       "      <td>1</td>\n",
       "      <td>2018-08-01 15:29:08</td>\n",
       "      <td>On or near Camborne Road</td>\n",
       "      <td>Violence and sexual offences</td>\n",
       "      <td>-2.445266</td>\n",
       "      <td>53.568947</td>\n",
       "      <td>2018-08-01</td>\n",
       "      <td>15:29:08</td>\n",
       "      <td>1</td>\n",
       "    </tr>\n",
       "    <tr>\n",
       "      <th>2</th>\n",
       "      <td>2</td>\n",
       "      <td>2018-08-05 11:29:28</td>\n",
       "      <td>On or near Ashley Road</td>\n",
       "      <td>Criminal damage and arson</td>\n",
       "      <td>-2.354261</td>\n",
       "      <td>53.419073</td>\n",
       "      <td>2018-08-05</td>\n",
       "      <td>11:29:28</td>\n",
       "      <td>5</td>\n",
       "    </tr>\n",
       "    <tr>\n",
       "      <th>3</th>\n",
       "      <td>3</td>\n",
       "      <td>2018-08-26 05:21:34</td>\n",
       "      <td>On or near Trust Road</td>\n",
       "      <td>Public order</td>\n",
       "      <td>-2.563494</td>\n",
       "      <td>53.536908</td>\n",
       "      <td>2018-08-26</td>\n",
       "      <td>05:21:34</td>\n",
       "      <td>26</td>\n",
       "    </tr>\n",
       "    <tr>\n",
       "      <th>4</th>\n",
       "      <td>4</td>\n",
       "      <td>2018-08-16 01:16:35</td>\n",
       "      <td>On or near Back Elmwood Grove West</td>\n",
       "      <td>Violence and sexual offences</td>\n",
       "      <td>-2.199558</td>\n",
       "      <td>53.513226</td>\n",
       "      <td>2018-08-16</td>\n",
       "      <td>01:16:35</td>\n",
       "      <td>16</td>\n",
       "    </tr>\n",
       "  </tbody>\n",
       "</table>\n",
       "</div>"
      ],
      "text/plain": [
       "   Unnamed: 0             CrimeTS                            Location  \\\n",
       "0           0 2018-08-02 21:29:18           On or near Faraday Street   \n",
       "1           1 2018-08-01 15:29:08            On or near Camborne Road   \n",
       "2           2 2018-08-05 11:29:28              On or near Ashley Road   \n",
       "3           3 2018-08-26 05:21:34               On or near Trust Road   \n",
       "4           4 2018-08-16 01:16:35  On or near Back Elmwood Grove West   \n",
       "\n",
       "                           Type  Longitude   Latitude  Crime Date Crime Time  \\\n",
       "0  Violence and sexual offences  -2.125952  53.456924  2018-08-02   21:29:18   \n",
       "1  Violence and sexual offences  -2.445266  53.568947  2018-08-01   15:29:08   \n",
       "2     Criminal damage and arson  -2.354261  53.419073  2018-08-05   11:29:28   \n",
       "3                  Public order  -2.563494  53.536908  2018-08-26   05:21:34   \n",
       "4  Violence and sexual offences  -2.199558  53.513226  2018-08-16   01:16:35   \n",
       "\n",
       "   Crime Day  \n",
       "0          2  \n",
       "1          1  \n",
       "2          5  \n",
       "3         26  \n",
       "4         16  "
      ]
     },
     "execution_count": 29,
     "metadata": {},
     "output_type": "execute_result"
    }
   ],
   "source": [
    "# include the day  in the data frame\n",
    "crime_day = [ct.day for ct in mc_pf['CrimeTS']]\n",
    "mc_pf_day = mc_pf\n",
    "mc_pf_day['Crime Day'] = crime_day\n",
    "mc_pf_day.head()"
   ]
  },
  {
   "cell_type": "code",
   "execution_count": 26,
   "metadata": {},
   "outputs": [
    {
     "data": {
      "application/vnd.jupyter.widget-view+json": {
       "model_id": "53796464a55d4a89aae779c1c0f8f681",
       "version_major": 2,
       "version_minor": 0
      },
      "text/plain": [
       "Figure(layout=FigureLayout(height='420px'))"
      ]
     },
     "metadata": {},
     "output_type": "display_data"
    }
   ],
   "source": [
    "# Crime Heatmap for off day\n",
    "\n",
    "import gmaps\n",
    "from config import gkey\n",
    "\n",
    "\n",
    "# lat and lon of the crime location\n",
    "manchester_coordinates = (53.4808, -2.2426)\n",
    "#off_day_data = mc_off_game[mc_off_game['CrimeDay'] = 1]\n",
    "off_day_location = mc_off_game[['Latitude', 'Longitude']]\n",
    "\n",
    "# lat and lon of the two statiums\n",
    "etihad_stadium = [53.4831, -2.2004,]\n",
    "old_trafford = [53.4631, -2.2913,]\n",
    "marker_locations = [etihad_stadium, old_trafford]\n",
    "\n",
    "gmaps.configure(api_key=gkey)\n",
    "fig = gmaps.figure(map_type='ROADMAP',center=manchester_coordinates, zoom_level=12)\n",
    "heatmap_layer = gmaps.heatmap_layer(off_day_location)\n",
    "markers = gmaps.marker_layer(marker_locations)\n",
    "fig.add_layer(markers)\n",
    "fig.add_layer(heatmap_layer)\n",
    "\n",
    "\n",
    "fig"
   ]
  },
  {
   "cell_type": "code",
   "execution_count": 138,
   "metadata": {},
   "outputs": [
    {
     "data": {
      "application/vnd.jupyter.widget-view+json": {
       "model_id": "1566678efa494a118a439b2982a68293",
       "version_major": 2,
       "version_minor": 0
      },
      "text/plain": [
       "Figure(layout=FigureLayout(height='420px'))"
      ]
     },
     "metadata": {},
     "output_type": "display_data"
    }
   ],
   "source": [
    "# Crime Heatmap for home game \n",
    "\n",
    "import gmaps\n",
    "from config import gkey\n",
    "\n",
    "# lat and lon of the crime location\n",
    "manchester_coordinates = (53.4808, -2.2426)\n",
    "game_day_location = mc_home_game[['Latitude', 'Longitude']]\n",
    "\n",
    "gmaps.configure(api_key=gkey)\n",
    "fig = gmaps.figure(map_type='ROADMAP')\n",
    "heatmap_layer = gmaps.heatmap_layer(game_day_location)\n",
    "markers = gmaps.marker_layer(marker_locations)\n",
    "fig.add_layer(markers)\n",
    "fig.add_layer(heatmap_layer)\n",
    "fig"
   ]
  },
  {
   "cell_type": "code",
   "execution_count": 139,
   "metadata": {},
   "outputs": [
    {
     "data": {
      "application/vnd.jupyter.widget-view+json": {
       "model_id": "7bd6b0382c88426480c09093a2b0e116",
       "version_major": 2,
       "version_minor": 0
      },
      "text/plain": [
       "Figure(layout=FigureLayout(height='420px'))"
      ]
     },
     "metadata": {},
     "output_type": "display_data"
    }
   ],
   "source": [
    "# Crime Heatmap for guest game \n",
    "\n",
    "# lat and lon of the crime location\n",
    "guest_day_location = mc_guest_game[['Latitude', 'Longitude',]]\n",
    "\n",
    "gmaps.configure(api_key=gkey)\n",
    "fig = gmaps.figure(map_type='ROADMAP')\n",
    "heatmap_layer = gmaps.heatmap_layer(guest_day_location)\n",
    "markers = gmaps.marker_layer(marker_locations)\n",
    "fig.add_layer(markers)\n",
    "fig.add_layer(heatmap_layer)\n",
    "fig"
   ]
  },
  {
   "cell_type": "code",
   "execution_count": 85,
   "metadata": {
    "scrolled": false
   },
   "outputs": [
    {
     "data": {
      "application/vnd.jupyter.widget-view+json": {
       "model_id": "38505ee4f6e84455af1738e2e5b020b3",
       "version_major": 2,
       "version_minor": 0
      },
      "text/plain": [
       "Figure(layout=FigureLayout(height='420px'))"
      ]
     },
     "metadata": {},
     "output_type": "display_data"
    }
   ],
   "source": [
    "# Crime Heatmap for home game, by category\n",
    "\n",
    "import gmaps\n",
    "from config import gkey\n",
    "\n",
    "# lat and lon of the crime location\n",
    "game_day_location = mc_home_game[mc_home_game['Type'] == 'Drugs' ][['Latitude', 'Longitude']]\n",
    "\n",
    "gmaps.configure(api_key=gkey)\n",
    "fig = gmaps.figure(map_type='ROADMAP',center=manchester_coordinates, zoom_level=10)\n",
    "symbol_layer = gmaps.symbol_layer(game_day_location, fill_color='red', stroke_color='green', scale=3)\n",
    "markers = gmaps.marker_layer(marker_locations)\n",
    "fig.add_layer(markers)\n",
    "fig.add_layer(symbol_layer)\n",
    "fig"
   ]
  },
  {
   "cell_type": "code",
   "execution_count": 46,
   "metadata": {},
   "outputs": [
    {
     "data": {
      "text/plain": [
       "array(['Violence and sexual offences', 'Burglary', 'Other theft',\n",
       "       'Criminal damage and arson', 'Public order', 'Shoplifting',\n",
       "       'Vehicle crime', 'Other crime', 'Theft from the person',\n",
       "       'Bicycle theft', 'Drugs', 'Possession of weapons', 'Robbery'],\n",
       "      dtype=object)"
      ]
     },
     "execution_count": 46,
     "metadata": {},
     "output_type": "execute_result"
    }
   ],
   "source": [
    "mc_home_game['Type'].unique()"
   ]
  },
  {
   "cell_type": "code",
   "execution_count": 83,
   "metadata": {},
   "outputs": [
    {
     "data": {
      "application/vnd.jupyter.widget-view+json": {
       "model_id": "6b139c5b2bc043b9bab236b489edee95",
       "version_major": 2,
       "version_minor": 0
      },
      "text/plain": [
       "Figure(layout=FigureLayout(height='420px'))"
      ]
     },
     "metadata": {},
     "output_type": "display_data"
    }
   ],
   "source": [
    "# Crime Heatmap for guest game day, by category\n",
    "\n",
    "import gmaps\n",
    "from config import gkey\n",
    "\n",
    "# lat and lon of the crime location\n",
    "game_day_location = mc_guest_game[mc_guest_game['Type'] == 'Robbery' ][['Latitude', 'Longitude']]\n",
    "\n",
    "gmaps.configure(api_key=gkey)\n",
    "fig = gmaps.figure(map_type='ROADMAP',center=manchester_coordinates, zoom_level=10)\n",
    "symbol_layer = gmaps.symbol_layer(game_day_location, fill_color='red', stroke_color='green', scale=3)\n",
    "markers = gmaps.marker_layer(marker_locations)\n",
    "fig.add_layer(markers)\n",
    "fig.add_layer(symbol_layer)\n",
    "fig"
   ]
  },
  {
   "cell_type": "code",
   "execution_count": 30,
   "metadata": {},
   "outputs": [
    {
     "data": {
      "application/vnd.jupyter.widget-view+json": {
       "model_id": "a3d4e76b579f4e4c81ba3839ba4bff9b",
       "version_major": 2,
       "version_minor": 0
      },
      "text/plain": [
       "Figure(layout=FigureLayout(height='420px'))"
      ]
     },
     "metadata": {},
     "output_type": "display_data"
    }
   ],
   "source": [
    "# Crime Heatmap, by day\n",
    "import gmaps\n",
    "from config import gkey\n",
    "\n",
    "\n",
    "# lat and lon of the crime location\n",
    "manchester_coordinates = (53.4808, -2.2426)\n",
    "#off_day_data = mc_off_game[mc_off_game['CrimeDay'] = 1]\n",
    "off_day_location = mc_pf_day[mc_pf_day['Crime Day'] == 30][['Latitude', 'Longitude']]\n",
    "\n",
    "# lat and lon of the two statiums\n",
    "etihad_stadium = [53.4831, -2.2004,]\n",
    "old_trafford = [53.4631, -2.2913,]\n",
    "marker_locations = [etihad_stadium, old_trafford]\n",
    "\n",
    "gmaps.configure(api_key=gkey)\n",
    "fig = gmaps.figure(map_type='ROADMAP',center=manchester_coordinates, zoom_level=12)\n",
    "heatmap_layer = gmaps.heatmap_layer(off_day_location)\n",
    "markers = gmaps.marker_layer(marker_locations)\n",
    "fig.add_layer(markers)\n",
    "fig.add_layer(heatmap_layer)\n",
    "\n",
    "\n",
    "fig"
   ]
  },
  {
   "cell_type": "code",
   "execution_count": null,
   "metadata": {},
   "outputs": [],
   "source": []
  },
  {
   "cell_type": "code",
   "execution_count": null,
   "metadata": {},
   "outputs": [],
   "source": []
  }
 ],
 "metadata": {
  "kernelspec": {
   "display_name": "Python [conda env:PythonData] *",
   "language": "python",
   "name": "conda-env-PythonData-py"
  },
  "language_info": {
   "codemirror_mode": {
    "name": "ipython",
    "version": 3
   },
   "file_extension": ".py",
   "mimetype": "text/x-python",
   "name": "python",
   "nbconvert_exporter": "python",
   "pygments_lexer": "ipython3",
   "version": "3.6.8"
  }
 },
 "nbformat": 4,
 "nbformat_minor": 2
}
